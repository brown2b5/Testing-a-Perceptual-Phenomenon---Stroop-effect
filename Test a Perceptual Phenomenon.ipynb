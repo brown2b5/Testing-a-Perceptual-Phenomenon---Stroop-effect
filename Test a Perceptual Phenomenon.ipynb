{
 "cells": [
  {
   "cell_type": "markdown",
   "metadata": {},
   "source": [
    "### Analyzing the Stroop Effect - Introduction\n",
    "\n",
    "In a Stroop task (Reference 1), individuals are shown words (a color) in differing colors of ink under two conditions, the congruent condition for which the colored words have ink which match the color of the word (blue written in blue ink, black written in black ink, etc...) and the incongruent condition for which the colored words have ink which do not match the color of the word (blue written in red ink, black written in purple ink, etc...).  The time it takes individuals to accurately state the color of each word is recorded.  The purpose of this project is to take some available data on the time to state the correct color of ink for each condition and determine if the mean difference in times to accurately state the color of the ink between the incongruent and congruent conditions is significantly greater than 0.  My expectation is that the mean difference in times will be significantly greater than 0.  Under the incongruent condition, two different perceptual phenomena will be at play for each individual; the color of ink used and the color of the word itself.  These two phenomena will be different and should cause confusion for each individual, requiring a larger amount of time to accurately state the color of the ink."
   ]
  },
  {
   "cell_type": "markdown",
   "metadata": {},
   "source": [
    "### Definition of Independent and Dependent Variables and Hypotheses \n",
    "\n",
    "First I will define the independent and dependent variables and the hypotheses so that I know which hypothesis to test in order to determine statistical significance.\n",
    "\n",
    "Recorded in the stroopdata.csv file are times for each participant to state the correct color of the ink under the congruent and incongruent conditions (Reference 2). Since the time to state the correct color of the ink will depend on the condition, the condition will be the independent variable and the time to correctly state the word will be the dependent variable.\n",
    "\n",
    "My expectation is that the mean difference between time to accurately state the color of the ink under the incongruent condition and time to accurately state the color of the ink under the congruent condition will be greater than 0. The null and alternative hypotheses for this are as follows:\n",
    "\n",
    "$$\n",
    "H_0:\\mu_{t_{incongruent}-t_{congruent}} \\leq 0\n",
    "$$\n",
    "$$\n",
    "H_1: \\mu_{t_{incongruent}-t_{congruent}} > 0\n",
    "$$\n",
    "\n",
    "Where $H_0$ and $H_1$ are the null and alternative hypotheses, respectively, $t_{incongruent}$ and $t_{congruent}$ are the times for each subject to state the correct color of ink under the incongruent and congruent conditions, respectively and $\\mu_{t_{incongruent}-t_{congruent}}$ is the mean difference in times to state the correct color of the ink between the incongruent and congruent conditions across all subjects.\n",
    "\n",
    "I chose the null and alternative hypotheses to be the above because I expect to show that the incongruent condition results in larger times to state the correct color than the congruent condition on average.  This is what I think is true and I want to show this.  We allow the alternative hypothesis to be the condition we would like to show to be true (Reference 3).  The null hypothesis is the opposite of the alternative hypothesis and contains an equals sign (Reference 3).\n",
    "\n",
    "A few things should be mentioned here.  First, we are dealing with two samples and we want to see if the mean difference between times to accurately state the color of the ink under the incongruent and congruent conditions is significantly greater than 0 so we should use a two-sample, right-tailed t-test (Reference 4).  Second, the two samples are related because they come from the same individuals (an individual has a time recorded for both the congruent and incongruent conditions) so we should use a paired t-test (Reference 5)."
   ]
  },
  {
   "cell_type": "markdown",
   "metadata": {},
   "source": [
    "### Measures of Central Tendency and Variability for difference in sample times between each condition\n",
    "\n",
    "Before viewing the data visually and performing a statistical test for significance, I will first determine some descriptive statistics for the sample data including two measures of central tendency (mean and median of difference in times between the incongruent and congruent conditions) and one measure of variability.  This will give us an idea of how the sample data differs between the conditions before using a significance test to say something about the overall population."
   ]
  },
  {
   "cell_type": "code",
   "execution_count": 1,
   "metadata": {},
   "outputs": [
    {
     "data": {
      "text/html": [
       "<div>\n",
       "<style scoped>\n",
       "    .dataframe tbody tr th:only-of-type {\n",
       "        vertical-align: middle;\n",
       "    }\n",
       "\n",
       "    .dataframe tbody tr th {\n",
       "        vertical-align: top;\n",
       "    }\n",
       "\n",
       "    .dataframe thead th {\n",
       "        text-align: right;\n",
       "    }\n",
       "</style>\n",
       "<table border=\"1\" class=\"dataframe\">\n",
       "  <thead>\n",
       "    <tr style=\"text-align: right;\">\n",
       "      <th></th>\n",
       "      <th>Congruent</th>\n",
       "      <th>Incongruent</th>\n",
       "    </tr>\n",
       "  </thead>\n",
       "  <tbody>\n",
       "    <tr>\n",
       "      <th>0</th>\n",
       "      <td>12.079</td>\n",
       "      <td>19.278</td>\n",
       "    </tr>\n",
       "    <tr>\n",
       "      <th>1</th>\n",
       "      <td>16.791</td>\n",
       "      <td>18.741</td>\n",
       "    </tr>\n",
       "    <tr>\n",
       "      <th>2</th>\n",
       "      <td>9.564</td>\n",
       "      <td>21.214</td>\n",
       "    </tr>\n",
       "    <tr>\n",
       "      <th>3</th>\n",
       "      <td>8.630</td>\n",
       "      <td>15.687</td>\n",
       "    </tr>\n",
       "    <tr>\n",
       "      <th>4</th>\n",
       "      <td>14.669</td>\n",
       "      <td>22.803</td>\n",
       "    </tr>\n",
       "  </tbody>\n",
       "</table>\n",
       "</div>"
      ],
      "text/plain": [
       "   Congruent  Incongruent\n",
       "0     12.079       19.278\n",
       "1     16.791       18.741\n",
       "2      9.564       21.214\n",
       "3      8.630       15.687\n",
       "4     14.669       22.803"
      ]
     },
     "execution_count": 1,
     "metadata": {},
     "output_type": "execute_result"
    }
   ],
   "source": [
    "# Importing both pandas and matplotlib in order to plot the data and find descriptive statistics (References 6 and 7)\n",
    "import pandas as pd\n",
    "import matplotlib.pyplot as plt\n",
    "\n",
    "# Use this command to show the plots inline with the text (Reference 8)\n",
    "%matplotlib inline\n",
    "\n",
    "# Read in the data (Reference 9)\n",
    "df = pd.read_csv('stroopdata.csv')\n",
    "\n",
    "# See what the dataframe looks like from the first few rows (Reference 10)\n",
    "df.head()"
   ]
  },
  {
   "cell_type": "code",
   "execution_count": 2,
   "metadata": {},
   "outputs": [
    {
     "data": {
      "text/plain": [
       "(24, 2)"
      ]
     },
     "execution_count": 2,
     "metadata": {},
     "output_type": "execute_result"
    }
   ],
   "source": [
    "# Using shape to see the number of rows and columns in the df dataframe (Reference 11)\n",
    "\n",
    "df.shape"
   ]
  },
  {
   "cell_type": "code",
   "execution_count": 3,
   "metadata": {},
   "outputs": [
    {
     "name": "stdout",
     "output_type": "stream",
     "text": [
      "<class 'pandas.core.frame.DataFrame'>\n",
      "RangeIndex: 24 entries, 0 to 23\n",
      "Data columns (total 2 columns):\n",
      "Congruent      24 non-null float64\n",
      "Incongruent    24 non-null float64\n",
      "dtypes: float64(2)\n",
      "memory usage: 464.0 bytes\n"
     ]
    }
   ],
   "source": [
    "# Using .info to see if there are any missing values in the dataframe (Reference 12)\n",
    "\n",
    "df.info()"
   ]
  },
  {
   "cell_type": "code",
   "execution_count": 4,
   "metadata": {},
   "outputs": [],
   "source": [
    "# I will now add a third column representing the difference in mean times for each subject between the incongruent \n",
    "# and congruent conditions.  I can do this since there is no missing data as shown directly above.\n",
    "df['Diff'] = df['Incongruent'] - df['Congruent']"
   ]
  },
  {
   "cell_type": "code",
   "execution_count": 5,
   "metadata": {},
   "outputs": [
    {
     "data": {
      "text/html": [
       "<div>\n",
       "<style scoped>\n",
       "    .dataframe tbody tr th:only-of-type {\n",
       "        vertical-align: middle;\n",
       "    }\n",
       "\n",
       "    .dataframe tbody tr th {\n",
       "        vertical-align: top;\n",
       "    }\n",
       "\n",
       "    .dataframe thead th {\n",
       "        text-align: right;\n",
       "    }\n",
       "</style>\n",
       "<table border=\"1\" class=\"dataframe\">\n",
       "  <thead>\n",
       "    <tr style=\"text-align: right;\">\n",
       "      <th></th>\n",
       "      <th>Congruent</th>\n",
       "      <th>Incongruent</th>\n",
       "      <th>Diff</th>\n",
       "    </tr>\n",
       "  </thead>\n",
       "  <tbody>\n",
       "    <tr>\n",
       "      <th>0</th>\n",
       "      <td>12.079</td>\n",
       "      <td>19.278</td>\n",
       "      <td>7.199</td>\n",
       "    </tr>\n",
       "    <tr>\n",
       "      <th>1</th>\n",
       "      <td>16.791</td>\n",
       "      <td>18.741</td>\n",
       "      <td>1.950</td>\n",
       "    </tr>\n",
       "    <tr>\n",
       "      <th>2</th>\n",
       "      <td>9.564</td>\n",
       "      <td>21.214</td>\n",
       "      <td>11.650</td>\n",
       "    </tr>\n",
       "    <tr>\n",
       "      <th>3</th>\n",
       "      <td>8.630</td>\n",
       "      <td>15.687</td>\n",
       "      <td>7.057</td>\n",
       "    </tr>\n",
       "    <tr>\n",
       "      <th>4</th>\n",
       "      <td>14.669</td>\n",
       "      <td>22.803</td>\n",
       "      <td>8.134</td>\n",
       "    </tr>\n",
       "  </tbody>\n",
       "</table>\n",
       "</div>"
      ],
      "text/plain": [
       "   Congruent  Incongruent    Diff\n",
       "0     12.079       19.278   7.199\n",
       "1     16.791       18.741   1.950\n",
       "2      9.564       21.214  11.650\n",
       "3      8.630       15.687   7.057\n",
       "4     14.669       22.803   8.134"
      ]
     },
     "execution_count": 5,
     "metadata": {},
     "output_type": "execute_result"
    }
   ],
   "source": [
    "# See what the dataframe looks like with the difference calculated.\n",
    "df.head()"
   ]
  },
  {
   "cell_type": "code",
   "execution_count": 9,
   "metadata": {},
   "outputs": [
    {
     "data": {
      "text/plain": [
       "Congruent      14.051125\n",
       "Incongruent    22.015917\n",
       "Diff            7.964792\n",
       "dtype: float64"
      ]
     },
     "execution_count": 9,
     "metadata": {},
     "output_type": "execute_result"
    }
   ],
   "source": [
    "# Using the .mean() function to find the mean of each column (times to state correct ink under each condition and difference in \n",
    "# times between the incongruent and congruent conditions)  (Reference 13).\n",
    "\n",
    "df.mean()"
   ]
  },
  {
   "cell_type": "code",
   "execution_count": 10,
   "metadata": {},
   "outputs": [
    {
     "data": {
      "text/plain": [
       "Congruent      14.3565\n",
       "Incongruent    21.0175\n",
       "Diff            7.6665\n",
       "dtype: float64"
      ]
     },
     "execution_count": 10,
     "metadata": {},
     "output_type": "execute_result"
    }
   ],
   "source": [
    "# I will also find the median, another measure of central tendency to further determine which condition requires longer times\n",
    "# to correctly state the color of the ink based on this sample data (Reference 14).\n",
    "df.median()"
   ]
  },
  {
   "cell_type": "code",
   "execution_count": 11,
   "metadata": {},
   "outputs": [
    {
     "data": {
      "text/plain": [
       "Congruent      3.559358\n",
       "Incongruent    4.797057\n",
       "Diff           4.864827\n",
       "dtype: float64"
      ]
     },
     "execution_count": 11,
     "metadata": {},
     "output_type": "execute_result"
    }
   ],
   "source": [
    "# I will determine the standard deviation to find a measure of variability (Reference 15).\n",
    "df.std()"
   ]
  },
  {
   "cell_type": "markdown",
   "metadata": {},
   "source": [
    "From the above commands, the mean and median difference in time to state the correct color of ink between the incongruent and congruent conditions is 7.96 and 7.67 seconds, respectively. The standard deviation, a measure of variability, is 4.86 seconds for the difference in times to accurately state the color of ink between the incongruent and congruent conditions. For this sample data, the incongruent condition has on average a higher time to state the correct color of ink. It's important to realize that the mean difference in time reported is for the sample size only and does not represent all of the human population. The importance of running a test for statistical significance is that I want to determine the likelihood that there would actually be a mean difference in the times (and that the incongruent condition would have a higher time on average) if we had data for all the human population (Reference 16)."
   ]
  },
  {
   "cell_type": "markdown",
   "metadata": {},
   "source": [
    "### Visualization of distribution of data for each condition\n",
    "\n",
    "Now I will visualize the distribution of the data for each condition on the same plot so that I can compare them.  I expect for this sample data that most of the times for the incongruent condition will be greater than (to the right of) the times for the congruent condition."
   ]
  },
  {
   "cell_type": "code",
   "execution_count": 12,
   "metadata": {},
   "outputs": [
    {
     "data": {
      "image/png": "[encoded data removed]",
      "text/plain": [
       "<Figure size 720x576 with 1 Axes>"
      ]
     },
     "metadata": {},
     "output_type": "display_data"
    }
   ],
   "source": [
    "# Adjust figure size (Reference 17)\n",
    "plt.figure(figsize = (10,8)) \n",
    "\n",
    "# Determine binwidth based on minimum and maximum values of difference in times (Reference 18).  I chose a binwidth of 2 after \n",
    "# playing around with different values.\n",
    "bins=range(int(min(df['Diff'])), int(max(df['Diff']) + 2), 2)  \n",
    "\n",
    "# Plot the histogram (Reference 19)\n",
    "plt.hist(df['Diff'], bins);\n",
    "\n",
    "# Label the x axis, y axis, title and adjust the sizes (References 20 and 21)\n",
    "plt.xlabel('Difference in time to state ink color between conditions, s', size = 'x-large')\n",
    "plt.ylabel('Frequency', size = 'x-large')\n",
    "plt.title('Frequency of difference in times to state ink color between conditions', size = 'x-large')\n",
    "plt.show()"
   ]
  },
  {
   "cell_type": "markdown",
   "metadata": {},
   "source": [
    "Based on the histogram of the data in the plot directly above, all of the times for the incongruent condition from the sample are greater than the times for the congruent condition.  I suspect this would be true for most humans but a statistical test for significance is needed to infer something about the general population.  This data is only a sample of 24 participants.  This data is not normal because of the two peaks present (the data also more abrubtly drops to the left of the second peak than to the right) and because of a couple of outliers around 17.5 seconds.  Even though the data does not appear to be normal, we can still use the two-sample paired t-test because there is evidence that that this test is robust to non-normality in the samples as long as the sizes of the samples are equal (Reference 22)."
   ]
  },
  {
   "cell_type": "markdown",
   "metadata": {},
   "source": [
    "### Resources\n",
    "\n",
    "Reference 1: https://www.psytoolkit.org/lessons/stroop.html\n",
    "\n",
    "Reference 2: https://classroom.udacity.com/nanodegrees/nd002/parts/1ba6332a-d816-4b97-a32d-f4e684bf11ce/modules/66f6e2ae-c356-4f6f-bed5-73ca5613be95/lessons/33253220-6815-4099-be84-6baf201c56b5/concepts/46699624-0d08-4c1f-b403-19775476fdbe\n",
    "\n",
    "Reference 3: https://classroom.udacity.com/nanodegrees/nd002/parts/682048c9-4e1a-4020-8a47-7eaf3e34f0fe/modules/e4508dac-d083-427b-be3d-63663aeada68/lessons/ad8aca80-f444-4479-8848-5b07bafaf66c/concepts/2ff6c25f-c80a-4be2-912e-83639e98774e\n",
    "\n",
    "Reference 4: http://www.statisticshowto.com/how-to-decide-if-a-hypothesis-test-is-a-left-tailed-test-or-a-right-tailed-test/  \n",
    "\n",
    "Reference 5: http://www.statisticshowto.com/probability-and-statistics/t-test/#PairedTTest\n",
    "\n",
    "Reference 6: http://pandas.pydata.org/pandas-docs/stable/10min.html\n",
    "\n",
    "Reference 7: https://matplotlib.org/tutorials/introductory/pyplot.html#sphx-glr-tutorials-introductory-pyplot-py\n",
    "\n",
    "Reference 8: https://stackoverflow.com/questions/43027980/purpose-of-matplotlib-inline/43028034\n",
    "\n",
    "Reference 9: https://pandas.pydata.org/pandas-docs/stable/generated/pandas.read_csv.html#pandas.read_csv\n",
    "\n",
    "Reference 10: https://pandas.pydata.org/pandas-docs/stable/generated/pandas.DataFrame.head.html\n",
    "\n",
    "Reference 11: https://pandas.pydata.org/pandas-docs/stable/generated/pandas.DataFrame.shape.html\n",
    "\n",
    "Reference 12: https://pandas.pydata.org/pandas-docs/stable/generated/pandas.DataFrame.info.html\n",
    "\n",
    "Reference 13: https://pandas.pydata.org/pandas-docs/stable/generated/pandas.DataFrame.mean.html\n",
    "\n",
    "Reference 14: https://pandas.pydata.org/pandas-docs/stable/generated/pandas.DataFrame.median.html\n",
    "\n",
    "Reference 15: https://pandas.pydata.org/pandas-docs/stable/generated/pandas.DataFrame.std.html\n",
    "\n",
    "Reference 16: https://classroom.udacity.com/nanodegrees/nd002/parts/682048c9-4e1a-4020-8a47-7eaf3e34f0fe/modules/e4508dac-d083-427b-be3d-63663aeada68/lessons/ad8aca80-f444-4479-8848-5b07bafaf66c/concepts/2526e240-f043-4e8e-b7e5-befe0d69769a\n",
    "\n",
    "Reference 17: https://stackoverflow.com/questions/332289/how-do-you-change-the-size-of-figures-drawn-with-matplotlib\n",
    "\n",
    "Reference 18: https://stackoverflow.com/questions/6986986/bin-size-in-matplotlib-histogram\n",
    "\n",
    "Reference 19: https://matplotlib.org/api/_as_gen/matplotlib.pyplot.hist.html\n",
    "\n",
    "Reference 20: https://matplotlib.org/api/_as_gen/matplotlib.pyplot.xlabel.html\n",
    "\n",
    "Reference 21: https://matplotlib.org/api/text_api.html#matplotlib.text.Text"
   ]
  },
  {
   "cell_type": "code",
   "execution_count": null,
   "metadata": {},
   "outputs": [],
   "source": []
  }
 ],
 "metadata": {
  "kernelspec": {
   "display_name": "Python 3",
   "language": "python",
   "name": "python3"
  },
  "language_info": {
   "codemirror_mode": {
    "name": "ipython",
    "version": 3
   },
   "file_extension": ".py",
   "mimetype": "text/x-python",
   "name": "python",
   "nbconvert_exporter": "python",
   "pygments_lexer": "ipython3",
   "version": "3.6.5"
  }
 },
 "nbformat": 4,
 "nbformat_minor": 2
}
