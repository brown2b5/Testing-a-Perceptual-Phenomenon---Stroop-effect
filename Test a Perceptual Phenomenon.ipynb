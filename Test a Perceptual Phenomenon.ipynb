{
 "cells": [
  {
   "cell_type": "markdown",
   "metadata": {},
   "source": [
    "### Analyzing the Stroop Effect - Introduction\n",
    "\n",
    "In a Stroop task, individuals are shown words (a color) in differing colors of ink under two conditions, the congruent condition for which the colored words have ink which match the color of the word (blue written in blue ink, black written in black ink, etc...) and the incongruent condition for which the colored words have ink which do not match the color of the word (blue written in red ink, black written in purple ink, etc...).  The time it takes individuals to accurately state the color of each word is recorded.  The purpose of this project is to take some available data on the time to state the correct color of ink for each condition and determine if there is a significant difference in the mean times.  My hypothesis is that the mean time for the incongruent condition will be significantly greater than the congruent condition.  Under the incongruent condition, two different perceptual phenomena will be at play for each individual; the color of ink used and the color of the word itself.  These two phenomena will be different and should cause confusion for each individual, requiring a larger amount of time to accurately state the color of the ink."
   ]
  },
  {
   "cell_type": "code",
   "execution_count": null,
   "metadata": {},
   "outputs": [],
   "source": []
  }
 ],
 "metadata": {
  "kernelspec": {
   "display_name": "Python 3",
   "language": "python",
   "name": "python3"
  },
  "language_info": {
   "codemirror_mode": {
    "name": "ipython",
    "version": 3
   },
   "file_extension": ".py",
   "mimetype": "text/x-python",
   "name": "python",
   "nbconvert_exporter": "python",
   "pygments_lexer": "ipython3",
   "version": "3.6.5"
  }
 },
 "nbformat": 4,
 "nbformat_minor": 2
}
