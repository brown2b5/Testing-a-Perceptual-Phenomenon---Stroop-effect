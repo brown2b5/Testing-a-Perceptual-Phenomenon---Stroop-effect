{
 "cells": [
  {
   "cell_type": "markdown",
   "metadata": {},
   "source": [
    "### Analyzing the Stroop Effect - Introduction\n",
    "\n",
    "In a Stroop task (Reference 1), individuals are shown words (a color) in differing colors of ink under two conditions, the congruent condition for which the colored words have ink which match the color of the word (blue written in blue ink, black written in black ink, etc...) and the incongruent condition for which the colored words have ink which do not match the color of the word (blue written in red ink, black written in purple ink, etc...).  The time it takes individuals to accurately state the color of each word is recorded.  The purpose of this project is to take some available data on the time to state the correct color of ink for each condition and determine if there is a significant difference in the mean times.  My hypothesis is that the mean time for the incongruent condition will be significantly greater than the congruent condition.  Under the incongruent condition, two different perceptual phenomena will be at play for each individual; the color of ink used and the color of the word itself.  These two phenomena will be different and should cause confusion for each individual, requiring a larger amount of time to accurately state the color of the ink."
   ]
  },
  {
   "cell_type": "markdown",
   "metadata": {},
   "source": [
    "### Resources\n",
    "\n",
    "Reference 1: https://www.psytoolkit.org/lessons/stroop.html\n",
    "\n",
    "Reference 2: https://classroom.udacity.com/nanodegrees/nd002/parts/1ba6332a-d816-4b97-a32d-f4e684bf11ce/modules/66f6e2ae-c356-4f6f-bed5-73ca5613be95/lessons/33253220-6815-4099-be84-6baf201c56b5/concepts/46699624-0d08-4c1f-b403-19775476fdbe"
   ]
  }
 ],
 "metadata": {
  "kernelspec": {
   "display_name": "Python 3",
   "language": "python",
   "name": "python3"
  },
  "language_info": {
   "codemirror_mode": {
    "name": "ipython",
    "version": 3
   },
   "file_extension": ".py",
   "mimetype": "text/x-python",
   "name": "python",
   "nbconvert_exporter": "python",
   "pygments_lexer": "ipython3",
   "version": "3.6.5"
  }
 },
 "nbformat": 4,
 "nbformat_minor": 2
}
